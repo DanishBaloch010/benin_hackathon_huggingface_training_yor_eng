{
 "cells": [
  {
   "cell_type": "code",
   "execution_count": null,
   "id": "e941127b",
   "metadata": {},
   "outputs": [],
   "source": [
    "import csv\n",
    "\n",
    "# Creating a diverse list of 3000 prompts\n",
    "prompts = [\n",
    "    \"Capture the hustle and bustle of New York City streets during rush hour.\",\n",
    "    \"Imagine a quiet morning in a sunlit kitchen with a cat sleeping on the windowsill.\",\n",
    "    \"Show a group of friends laughing around a campfire on a starry night.\",\n",
    "    \"Illustrate an old, weathered pirate ship sailing through misty seas.\",\n",
    "    \"Depict a high-speed motorcycle race with blurred backgrounds emphasizing speed.\",\n",
    "    \"Create a scene of children playing soccer in a dusty village square.\",\n",
    "    \"Design a dreamy landscape where floating islands drift through a clear blue sky.\",\n",
    "    \"Visualize an astronaut exploring the rocky terrain of a red Martian landscape.\",\n",
    "    \"Paint a vibrant sunset over a tranquil lake with ducks swimming.\",\n",
    "    \"Sketch a quaint little coffee shop bustling with customers on a rainy day.\",\n",
    "    # Adding many more prompts, ensuring variation and randomness\n",
    "]\n",
    "\n",
    "# Generating additional prompts to reach 3000, with varying subjects and styles\n",
    "themes = [\n",
    "    \"city life\", \"rural landscapes\", \"historical scenes\", \"futuristic cities\", \"sports action\", \"wildlife encounters\",\n",
    "    \"seasonal changes\", \"underwater worlds\", \"fantasy realms\", \"domestic scenes\", \"urban nightlife\", \"ancient ruins\",\n",
    "    \"modern art\", \"classical portraits\", \"street festivals\", \"mountain adventures\", \"forest trails\", \"desert sunsets\",\n",
    "    \"traditional markets\", \"exotic animals\", \"space explorations\", \"time-lapse cityscapes\", \"mythological stories\",\n",
    "    \"cultural ceremonies\", \"dystopian views\", \"romantic evenings\", \"misty mornings\", \"architectural wonders\",\n",
    "    \"luxury lifestyles\", \"public demonstrations\"\n",
    "]\n",
    "\n",
    "import random\n",
    "\n",
    "# Helper function to generate a prompt with varied starting phrases and structures\n",
    "def generate_prompt(theme):\n",
    "    starts = [\n",
    "        \"Show\", \"Imagine\", \"Capture\", \"Illustrate\", \"Depict\", \"Create\", \"Design\", \"Visualize\", \"Paint\", \"Sketch\",\n",
    "        \"Experience\", \"View\", \"Watch\", \"Explore\", \"Reveal\", \"Photograph\", \"Present\", \"Construct\", \"Compose\", \"Picture\"\n",
    "    ]\n",
    "    styles = [\n",
    "        \"in the heart of\", \"surrounded by\", \"during\", \"with a view of\", \"featuring\", \"showcasing\", \"against the backdrop of\",\n",
    "        \"on a journey through\", \"overlooking\", \"at the edge of\"\n",
    "    ]\n",
    "    actions = [\n",
    "        \"bustling with activity\", \"in the midst of action\", \"in serene isolation\", \"under the starry sky\", \"bathed in moonlight\",\n",
    "        \"glowing with sunset\", \"reflecting the morning sun\", \"filled with drama\", \"echoing with laughter\", \"alive with color\"\n",
    "    ]\n",
    "    return f\"{random.choice(starts)} {theme} {random.choice(styles)} {random.choice(actions)}.\"\n",
    "\n",
    "# Ensuring we get exactly 3000 prompts\n",
    "while len(prompts) < 3000:\n",
    "    theme_choice = random.choice(themes)\n",
    "    prompts.append(generate_prompt(theme_choice))\n",
    "\n",
    "# Writing the prompts to a CSV file\n",
    "with open(\"/mnt/data/Image_Generation_Prompts.csv\", \"w\", newline='') as file:\n",
    "    writer = csv.writer(file)\n",
    "    writer.writerow(['eng'])  # Header\n",
    "    for prompt in prompts:\n",
    "        writer.writerow([prompt])\n",
    "\n",
    "# Confirming completion\n",
    "\"/mnt/data/Image_Generation_Prompts.csv\"\n"
   ]
  },
  {
   "cell_type": "markdown",
   "id": "e15f8b94",
   "metadata": {},
   "source": [
    "   # correct grammer , results are mostly same to koi faida nahi."
   ]
  },
  {
   "cell_type": "code",
   "execution_count": 1,
   "id": "8df35043",
   "metadata": {},
   "outputs": [],
   "source": [
    "# import pandas as pd\n",
    "# from textblob import TextBlob\n",
    "\n",
    "# # Read CSV file\n",
    "# df = pd.read_csv('Image_Generation_Prompts.csv')\n",
    "\n",
    "# # Function to correct grammar of a sentence\n",
    "# def correct_grammar(sentence):\n",
    "#     blob = TextBlob(sentence)\n",
    "#     return str(blob.correct())\n",
    "\n",
    "# # Apply grammar correction to each sentence in the DataFrame\n",
    "# df['corrected_eng'] = df['eng'].apply(correct_grammar)\n",
    "\n",
    "# # Save corrected sentences to a new CSV file\n",
    "# df.to_csv('corrected_sentences.csv', index=False)\n"
   ]
  },
  {
   "cell_type": "code",
   "execution_count": null,
   "id": "39e3470c",
   "metadata": {},
   "outputs": [],
   "source": []
  }
 ],
 "metadata": {
  "kernelspec": {
   "display_name": "Python 3 (ipykernel)",
   "language": "python",
   "name": "python3"
  },
  "language_info": {
   "codemirror_mode": {
    "name": "ipython",
    "version": 3
   },
   "file_extension": ".py",
   "mimetype": "text/x-python",
   "name": "python",
   "nbconvert_exporter": "python",
   "pygments_lexer": "ipython3",
   "version": "3.10.12"
  }
 },
 "nbformat": 4,
 "nbformat_minor": 5
}
