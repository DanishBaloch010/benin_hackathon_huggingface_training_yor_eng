{
 "cells": [
  {
   "cell_type": "code",
   "execution_count": 8,
   "id": "1158f2c9",
   "metadata": {},
   "outputs": [
    {
     "name": "stdout",
     "output_type": "stream",
     "text": [
      "Imagine misty mornings at the edge of in serene isolation.\n",
      "Imagine misty mornings at the edge of in serene isolation.\n"
     ]
    }
   ],
   "source": [
    "import pandas as pd\n",
    "from textblob import TextBlob\n",
    "\n",
    "# Read CSV file\n",
    "df = pd.read_csv('Image_Generation_Prompts.csv')\n",
    "\n",
    "# Function to correct grammar of a sentence\n",
    "def correct_grammar(sentence):\n",
    "    blob = TextBlob(sentence)\n",
    "    return str(blob.correct())\n",
    "\n",
    "\n",
    "org = df['eng'][1500]\n",
    "trans = correct_grammar(org)\n",
    "\n",
    "print(org)\n",
    "print(trans)\n"
   ]
  },
  {
   "cell_type": "code",
   "execution_count": null,
   "id": "c2251178",
   "metadata": {},
   "outputs": [],
   "source": []
  }
 ],
 "metadata": {
  "kernelspec": {
   "display_name": "Python 3 (ipykernel)",
   "language": "python",
   "name": "python3"
  },
  "language_info": {
   "codemirror_mode": {
    "name": "ipython",
    "version": 3
   },
   "file_extension": ".py",
   "mimetype": "text/x-python",
   "name": "python",
   "nbconvert_exporter": "python",
   "pygments_lexer": "ipython3",
   "version": "3.10.12"
  }
 },
 "nbformat": 4,
 "nbformat_minor": 5
}
