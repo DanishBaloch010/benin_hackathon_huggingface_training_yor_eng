{
 "cells": [
  {
   "cell_type": "code",
   "execution_count": 1,
   "id": "e40b8d78",
   "metadata": {},
   "outputs": [],
   "source": [
    "import pandas as pd\n",
    "\n",
    "train_data = pd.read_csv(r'cleaned_train_data_yor_eng_1000.csv')\n",
    "test_data = pd.read_csv(r'cleaned_test_data_yor_eng_300.csv')\n",
    "\n"
   ]
  },
  {
   "cell_type": "code",
   "execution_count": 2,
   "id": "bae00249",
   "metadata": {},
   "outputs": [
    {
     "name": "stdout",
     "output_type": "stream",
     "text": [
      "No sentences are repeating between train and test sets.\n"
     ]
    }
   ],
   "source": [
    "# Assuming train_data and test_data are your train and test DataFrames\n",
    "\n",
    "# Concatenate sentences from both train and test sets\n",
    "combined_sentences = pd.concat([train_data['eng'], train_data['yor'], test_data['eng'], test_data['yor']])\n",
    "\n",
    "# Check for duplicates\n",
    "duplicates = combined_sentences[combined_sentences.duplicated()]\n",
    "\n",
    "if len(duplicates) == 0:\n",
    "    print(\"No sentences are repeating between train and test sets.\")\n",
    "else:\n",
    "    print(\"Some sentences are repeating between train and test sets.\")\n",
    "    print(duplicates)\n"
   ]
  },
  {
   "cell_type": "code",
   "execution_count": null,
   "id": "263c1faf",
   "metadata": {},
   "outputs": [],
   "source": [
    "#vippppppppppppppppppppppppp"
   ]
  }
 ],
 "metadata": {
  "kernelspec": {
   "display_name": "Python 3 (ipykernel)",
   "language": "python",
   "name": "python3"
  },
  "language_info": {
   "codemirror_mode": {
    "name": "ipython",
    "version": 3
   },
   "file_extension": ".py",
   "mimetype": "text/x-python",
   "name": "python",
   "nbconvert_exporter": "python",
   "pygments_lexer": "ipython3",
   "version": "3.10.12"
  }
 },
 "nbformat": 4,
 "nbformat_minor": 5
}
